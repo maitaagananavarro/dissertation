{
  "nbformat": 4,
  "nbformat_minor": 0,
  "metadata": {
    "colab": {
      "provenance": [],
      "gpuType": "T4"
    },
    "kernelspec": {
      "name": "python3",
      "display_name": "Python 3"
    },
    "language_info": {
      "name": "python"
    },
    "accelerator": "GPU",
    "widgets": {
      "application/vnd.jupyter.widget-state+json": {
        "c025a105660d4151a57e8a2b60d47a27": {
          "model_module": "@jupyter-widgets/controls",
          "model_name": "HBoxModel",
          "model_module_version": "1.5.0",
          "state": {
            "_dom_classes": [],
            "_model_module": "@jupyter-widgets/controls",
            "_model_module_version": "1.5.0",
            "_model_name": "HBoxModel",
            "_view_count": null,
            "_view_module": "@jupyter-widgets/controls",
            "_view_module_version": "1.5.0",
            "_view_name": "HBoxView",
            "box_style": "",
            "children": [
              "IPY_MODEL_bc4c570298e645bd9abfbc89da8aacf2",
              "IPY_MODEL_bf45cbccec454f3dab795b8e03c77822",
              "IPY_MODEL_8b2df56aa5b340ce8dce15f15580450c"
            ],
            "layout": "IPY_MODEL_2457d4cca16347c589ca4fe2004b2823"
          }
        },
        "bc4c570298e645bd9abfbc89da8aacf2": {
          "model_module": "@jupyter-widgets/controls",
          "model_name": "HTMLModel",
          "model_module_version": "1.5.0",
          "state": {
            "_dom_classes": [],
            "_model_module": "@jupyter-widgets/controls",
            "_model_module_version": "1.5.0",
            "_model_name": "HTMLModel",
            "_view_count": null,
            "_view_module": "@jupyter-widgets/controls",
            "_view_module_version": "1.5.0",
            "_view_name": "HTMLView",
            "description": "",
            "description_tooltip": null,
            "layout": "IPY_MODEL_08aaa86f46de4ffb9621ac65c23446c0",
            "placeholder": "​",
            "style": "IPY_MODEL_ee7e6f843c484195b038ead99eb3c9c1",
            "value": "Unet.zip: 100%"
          }
        },
        "bf45cbccec454f3dab795b8e03c77822": {
          "model_module": "@jupyter-widgets/controls",
          "model_name": "FloatProgressModel",
          "model_module_version": "1.5.0",
          "state": {
            "_dom_classes": [],
            "_model_module": "@jupyter-widgets/controls",
            "_model_module_version": "1.5.0",
            "_model_name": "FloatProgressModel",
            "_view_count": null,
            "_view_module": "@jupyter-widgets/controls",
            "_view_module_version": "1.5.0",
            "_view_name": "ProgressView",
            "bar_style": "success",
            "description": "",
            "description_tooltip": null,
            "layout": "IPY_MODEL_180512b5c1504949bdc0cd689be7afc0",
            "max": 3071734627,
            "min": 0,
            "orientation": "horizontal",
            "style": "IPY_MODEL_4eab807b49f4454fb0e9c53da4b4eea3",
            "value": 3071734627
          }
        },
        "8b2df56aa5b340ce8dce15f15580450c": {
          "model_module": "@jupyter-widgets/controls",
          "model_name": "HTMLModel",
          "model_module_version": "1.5.0",
          "state": {
            "_dom_classes": [],
            "_model_module": "@jupyter-widgets/controls",
            "_model_module_version": "1.5.0",
            "_model_name": "HTMLModel",
            "_view_count": null,
            "_view_module": "@jupyter-widgets/controls",
            "_view_module_version": "1.5.0",
            "_view_name": "HTMLView",
            "description": "",
            "description_tooltip": null,
            "layout": "IPY_MODEL_eb12f5a00f384175a161ca94b0867d2c",
            "placeholder": "​",
            "style": "IPY_MODEL_d13e418009804c30b266d4dbe4196e8d",
            "value": " 3.07G/3.07G [00:16&lt;00:00, 287MB/s]"
          }
        },
        "2457d4cca16347c589ca4fe2004b2823": {
          "model_module": "@jupyter-widgets/base",
          "model_name": "LayoutModel",
          "model_module_version": "1.2.0",
          "state": {
            "_model_module": "@jupyter-widgets/base",
            "_model_module_version": "1.2.0",
            "_model_name": "LayoutModel",
            "_view_count": null,
            "_view_module": "@jupyter-widgets/base",
            "_view_module_version": "1.2.0",
            "_view_name": "LayoutView",
            "align_content": null,
            "align_items": null,
            "align_self": null,
            "border": null,
            "bottom": null,
            "display": null,
            "flex": null,
            "flex_flow": null,
            "grid_area": null,
            "grid_auto_columns": null,
            "grid_auto_flow": null,
            "grid_auto_rows": null,
            "grid_column": null,
            "grid_gap": null,
            "grid_row": null,
            "grid_template_areas": null,
            "grid_template_columns": null,
            "grid_template_rows": null,
            "height": null,
            "justify_content": null,
            "justify_items": null,
            "left": null,
            "margin": null,
            "max_height": null,
            "max_width": null,
            "min_height": null,
            "min_width": null,
            "object_fit": null,
            "object_position": null,
            "order": null,
            "overflow": null,
            "overflow_x": null,
            "overflow_y": null,
            "padding": null,
            "right": null,
            "top": null,
            "visibility": null,
            "width": null
          }
        },
        "08aaa86f46de4ffb9621ac65c23446c0": {
          "model_module": "@jupyter-widgets/base",
          "model_name": "LayoutModel",
          "model_module_version": "1.2.0",
          "state": {
            "_model_module": "@jupyter-widgets/base",
            "_model_module_version": "1.2.0",
            "_model_name": "LayoutModel",
            "_view_count": null,
            "_view_module": "@jupyter-widgets/base",
            "_view_module_version": "1.2.0",
            "_view_name": "LayoutView",
            "align_content": null,
            "align_items": null,
            "align_self": null,
            "border": null,
            "bottom": null,
            "display": null,
            "flex": null,
            "flex_flow": null,
            "grid_area": null,
            "grid_auto_columns": null,
            "grid_auto_flow": null,
            "grid_auto_rows": null,
            "grid_column": null,
            "grid_gap": null,
            "grid_row": null,
            "grid_template_areas": null,
            "grid_template_columns": null,
            "grid_template_rows": null,
            "height": null,
            "justify_content": null,
            "justify_items": null,
            "left": null,
            "margin": null,
            "max_height": null,
            "max_width": null,
            "min_height": null,
            "min_width": null,
            "object_fit": null,
            "object_position": null,
            "order": null,
            "overflow": null,
            "overflow_x": null,
            "overflow_y": null,
            "padding": null,
            "right": null,
            "top": null,
            "visibility": null,
            "width": null
          }
        },
        "ee7e6f843c484195b038ead99eb3c9c1": {
          "model_module": "@jupyter-widgets/controls",
          "model_name": "DescriptionStyleModel",
          "model_module_version": "1.5.0",
          "state": {
            "_model_module": "@jupyter-widgets/controls",
            "_model_module_version": "1.5.0",
            "_model_name": "DescriptionStyleModel",
            "_view_count": null,
            "_view_module": "@jupyter-widgets/base",
            "_view_module_version": "1.2.0",
            "_view_name": "StyleView",
            "description_width": ""
          }
        },
        "180512b5c1504949bdc0cd689be7afc0": {
          "model_module": "@jupyter-widgets/base",
          "model_name": "LayoutModel",
          "model_module_version": "1.2.0",
          "state": {
            "_model_module": "@jupyter-widgets/base",
            "_model_module_version": "1.2.0",
            "_model_name": "LayoutModel",
            "_view_count": null,
            "_view_module": "@jupyter-widgets/base",
            "_view_module_version": "1.2.0",
            "_view_name": "LayoutView",
            "align_content": null,
            "align_items": null,
            "align_self": null,
            "border": null,
            "bottom": null,
            "display": null,
            "flex": null,
            "flex_flow": null,
            "grid_area": null,
            "grid_auto_columns": null,
            "grid_auto_flow": null,
            "grid_auto_rows": null,
            "grid_column": null,
            "grid_gap": null,
            "grid_row": null,
            "grid_template_areas": null,
            "grid_template_columns": null,
            "grid_template_rows": null,
            "height": null,
            "justify_content": null,
            "justify_items": null,
            "left": null,
            "margin": null,
            "max_height": null,
            "max_width": null,
            "min_height": null,
            "min_width": null,
            "object_fit": null,
            "object_position": null,
            "order": null,
            "overflow": null,
            "overflow_x": null,
            "overflow_y": null,
            "padding": null,
            "right": null,
            "top": null,
            "visibility": null,
            "width": null
          }
        },
        "4eab807b49f4454fb0e9c53da4b4eea3": {
          "model_module": "@jupyter-widgets/controls",
          "model_name": "ProgressStyleModel",
          "model_module_version": "1.5.0",
          "state": {
            "_model_module": "@jupyter-widgets/controls",
            "_model_module_version": "1.5.0",
            "_model_name": "ProgressStyleModel",
            "_view_count": null,
            "_view_module": "@jupyter-widgets/base",
            "_view_module_version": "1.2.0",
            "_view_name": "StyleView",
            "bar_color": null,
            "description_width": ""
          }
        },
        "eb12f5a00f384175a161ca94b0867d2c": {
          "model_module": "@jupyter-widgets/base",
          "model_name": "LayoutModel",
          "model_module_version": "1.2.0",
          "state": {
            "_model_module": "@jupyter-widgets/base",
            "_model_module_version": "1.2.0",
            "_model_name": "LayoutModel",
            "_view_count": null,
            "_view_module": "@jupyter-widgets/base",
            "_view_module_version": "1.2.0",
            "_view_name": "LayoutView",
            "align_content": null,
            "align_items": null,
            "align_self": null,
            "border": null,
            "bottom": null,
            "display": null,
            "flex": null,
            "flex_flow": null,
            "grid_area": null,
            "grid_auto_columns": null,
            "grid_auto_flow": null,
            "grid_auto_rows": null,
            "grid_column": null,
            "grid_gap": null,
            "grid_row": null,
            "grid_template_areas": null,
            "grid_template_columns": null,
            "grid_template_rows": null,
            "height": null,
            "justify_content": null,
            "justify_items": null,
            "left": null,
            "margin": null,
            "max_height": null,
            "max_width": null,
            "min_height": null,
            "min_width": null,
            "object_fit": null,
            "object_position": null,
            "order": null,
            "overflow": null,
            "overflow_x": null,
            "overflow_y": null,
            "padding": null,
            "right": null,
            "top": null,
            "visibility": null,
            "width": null
          }
        },
        "d13e418009804c30b266d4dbe4196e8d": {
          "model_module": "@jupyter-widgets/controls",
          "model_name": "DescriptionStyleModel",
          "model_module_version": "1.5.0",
          "state": {
            "_model_module": "@jupyter-widgets/controls",
            "_model_module_version": "1.5.0",
            "_model_name": "DescriptionStyleModel",
            "_view_count": null,
            "_view_module": "@jupyter-widgets/base",
            "_view_module_version": "1.2.0",
            "_view_name": "StyleView",
            "description_width": ""
          }
        }
      }
    }
  },
  "cells": [
    {
      "cell_type": "code",
      "source": [
        "!apt-get update\n",
        "!apt-get install python3.10\n",
        "!update-alternatives --install /usr/bin/python3 python3 /usr/bin/python3.10 1\n",
        "!update-alternatives --config python3"
      ],
      "metadata": {
        "colab": {
          "base_uri": "https://localhost:8080/"
        },
        "id": "0jKzO5leSG3R",
        "outputId": "09a715b3-0ea4-4561-a65e-dd3a86cb9f69"
      },
      "execution_count": 1,
      "outputs": [
        {
          "output_type": "stream",
          "name": "stdout",
          "text": [
            "\r0% [Working]\r            \rGet:1 https://cloud.r-project.org/bin/linux/ubuntu jammy-cran40/ InRelease [3,626 B]\n",
            "Get:2 https://developer.download.nvidia.com/compute/cuda/repos/ubuntu2204/x86_64  InRelease [1,581 B]\n",
            "Hit:3 http://archive.ubuntu.com/ubuntu jammy InRelease\n",
            "Get:4 http://archive.ubuntu.com/ubuntu jammy-updates InRelease [128 kB]\n",
            "Get:5 http://security.ubuntu.com/ubuntu jammy-security InRelease [129 kB]\n",
            "Get:6 https://developer.download.nvidia.com/compute/cuda/repos/ubuntu2204/x86_64  Packages [973 kB]\n",
            "Hit:7 https://ppa.launchpadcontent.net/c2d4u.team/c2d4u4.0+/ubuntu jammy InRelease\n",
            "Hit:8 https://ppa.launchpadcontent.net/deadsnakes/ppa/ubuntu jammy InRelease\n",
            "Get:9 http://archive.ubuntu.com/ubuntu jammy-backports InRelease [127 kB]\n",
            "Hit:10 https://ppa.launchpadcontent.net/graphics-drivers/ppa/ubuntu jammy InRelease\n",
            "Hit:11 https://ppa.launchpadcontent.net/ubuntugis/ppa/ubuntu jammy InRelease\n",
            "Get:12 http://archive.ubuntu.com/ubuntu jammy-updates/restricted amd64 Packages [2,664 kB]\n",
            "Get:13 http://archive.ubuntu.com/ubuntu jammy-updates/universe amd64 Packages [1,409 kB]\n",
            "Get:14 http://archive.ubuntu.com/ubuntu jammy-updates/main amd64 Packages [2,258 kB]\n",
            "Get:15 http://security.ubuntu.com/ubuntu jammy-security/main amd64 Packages [1,994 kB]\n",
            "Get:16 http://security.ubuntu.com/ubuntu jammy-security/restricted amd64 Packages [2,591 kB]\n",
            "Get:17 http://security.ubuntu.com/ubuntu jammy-security/universe amd64 Packages [1,125 kB]\n",
            "Fetched 13.4 MB in 5s (2,689 kB/s)\n",
            "Reading package lists... Done\n",
            "Reading package lists... Done\n",
            "Building dependency tree... Done\n",
            "Reading state information... Done\n",
            "python3.10 is already the newest version (3.10.12-1~22.04.3).\n",
            "0 upgraded, 0 newly installed, 0 to remove and 45 not upgraded.\n",
            "update-alternatives: using /usr/bin/python3.10 to provide /usr/bin/python3 (python3) in auto mode\n",
            "There is only one alternative in link group python3 (providing /usr/bin/python3): /usr/bin/python3.10\n",
            "Nothing to configure.\n"
          ]
        }
      ]
    },
    {
      "cell_type": "code",
      "source": [
        "!pip install huggingface_hub"
      ],
      "metadata": {
        "colab": {
          "base_uri": "https://localhost:8080/"
        },
        "id": "VIKe_CheSMLc",
        "outputId": "00fd16fe-8642-49fa-e6bf-dc6afc66b33c"
      },
      "execution_count": 2,
      "outputs": [
        {
          "output_type": "stream",
          "name": "stdout",
          "text": [
            "Requirement already satisfied: huggingface_hub in /usr/local/lib/python3.10/dist-packages (0.23.4)\n",
            "Requirement already satisfied: filelock in /usr/local/lib/python3.10/dist-packages (from huggingface_hub) (3.15.4)\n",
            "Requirement already satisfied: fsspec>=2023.5.0 in /usr/local/lib/python3.10/dist-packages (from huggingface_hub) (2023.6.0)\n",
            "Requirement already satisfied: packaging>=20.9 in /usr/local/lib/python3.10/dist-packages (from huggingface_hub) (24.1)\n",
            "Requirement already satisfied: pyyaml>=5.1 in /usr/local/lib/python3.10/dist-packages (from huggingface_hub) (6.0.1)\n",
            "Requirement already satisfied: requests in /usr/local/lib/python3.10/dist-packages (from huggingface_hub) (2.31.0)\n",
            "Requirement already satisfied: tqdm>=4.42.1 in /usr/local/lib/python3.10/dist-packages (from huggingface_hub) (4.66.4)\n",
            "Requirement already satisfied: typing-extensions>=3.7.4.3 in /usr/local/lib/python3.10/dist-packages (from huggingface_hub) (4.12.2)\n",
            "Requirement already satisfied: charset-normalizer<4,>=2 in /usr/local/lib/python3.10/dist-packages (from requests->huggingface_hub) (3.3.2)\n",
            "Requirement already satisfied: idna<4,>=2.5 in /usr/local/lib/python3.10/dist-packages (from requests->huggingface_hub) (3.7)\n",
            "Requirement already satisfied: urllib3<3,>=1.21.1 in /usr/local/lib/python3.10/dist-packages (from requests->huggingface_hub) (2.0.7)\n",
            "Requirement already satisfied: certifi>=2017.4.17 in /usr/local/lib/python3.10/dist-packages (from requests->huggingface_hub) (2024.6.2)\n"
          ]
        }
      ]
    },
    {
      "cell_type": "code",
      "execution_count": 3,
      "metadata": {
        "colab": {
          "base_uri": "https://localhost:8080/"
        },
        "id": "xYRVRg3UQzJX",
        "outputId": "6a6eb28d-1ef7-4385-a49b-d94fd31b4600"
      },
      "outputs": [
        {
          "output_type": "stream",
          "name": "stdout",
          "text": [
            "Cloning into 'ClimateSet'...\n",
            "remote: Enumerating objects: 6637, done.\u001b[K\n",
            "remote: Counting objects: 100% (1545/1545), done.\u001b[K\n",
            "remote: Compressing objects: 100% (507/507), done.\u001b[K\n",
            "remote: Total 6637 (delta 1058), reused 1478 (delta 1008), pack-reused 5092\u001b[K\n",
            "Receiving objects: 100% (6637/6637), 10.19 MiB | 4.67 MiB/s, done.\n",
            "Resolving deltas: 100% (4242/4242), done.\n"
          ]
        }
      ],
      "source": [
        "!git clone https://github.com/RolnickLab/ClimateSet.git"
      ]
    },
    {
      "cell_type": "code",
      "source": [
        "%cd ClimateSet"
      ],
      "metadata": {
        "colab": {
          "base_uri": "https://localhost:8080/"
        },
        "id": "zrfgP_uvRoC_",
        "outputId": "1d7cc225-1b30-44e3-e52f-bca371ef912d"
      },
      "execution_count": 5,
      "outputs": [
        {
          "output_type": "stream",
          "name": "stdout",
          "text": [
            "/content/ClimateSet\n"
          ]
        }
      ]
    },
    {
      "cell_type": "code",
      "source": [
        "!sed -i 's|data_dir=.*$|data_dir=\"/content/ClimateSet/Climateset_DATA\"|' /content/ClimateSet/download_climateset.sh"
      ],
      "metadata": {
        "id": "pjlfyrS3ZVhA"
      },
      "execution_count": 5,
      "outputs": []
    },
    {
      "cell_type": "code",
      "source": [
        "!cat /content/ClimateSet/download_climateset.sh"
      ],
      "metadata": {
        "colab": {
          "base_uri": "https://localhost:8080/"
        },
        "id": "D0Isl6ajZWMs",
        "outputId": "456c70e6-21d7-445b-e849-6003f22e0015"
      },
      "execution_count": 7,
      "outputs": [
        {
          "output_type": "stream",
          "name": "stdout",
          "text": [
            "# Change the directory where the data will be downloaded below\n",
            "data_dir=\"/content/ClimateSet/Climateset_DATA\"\n",
            "mkdir -p ${data_dir}/inputs\n",
            "mkdir -p ${data_dir}/outputs\n",
            "\n",
            "\n",
            "echo \"Downloading input4mips data...\"\n",
            "curl https://object-arbutus.cloud.computecanada.ca/causalpaca/inputs/input4mips.tar.gz --output ${data_dir}/inputs/input4mips.tar.gz\n",
            "echo \"Done.\"\n",
            "# Uncomment the line wtih for x in AWI...for downloading the entire dataset. This takes a while.\n",
            "\n",
            "\n",
            "echo \"Downloading compressed CMIP6 models data...\"\n",
            "#for x in AWI-CM-1-1-MR.tar.gz BCC-CSM2-MR.tar.gz CAS-ESM2-0.tar.gz CNRM-CM6-1-HR.tar.gz EC-Earth3.tar.gz EC-Earth3-Veg-LR.tar.gz EC-Earth3-Veg.tar.gz FGOALS-f3-L.tar.gz GFDL-ESM4.tar.gz INM-CM4-8.tar.gz INM-CM5-0.tar.gz MPI-ESM1-2-HR.tar.gz MRI-ESM2-0.tar.gz NorESM2-LM.tar.gz NorESM2-MM.tar.gz TaiESM1.tar.gz ;do  curl https://object-arbutus.cloud.computecanada.ca/causalpaca/outputs/$x --output ${data_dir}/outputs/$x; done\n",
            "\n",
            "# the 6 selected models\n",
            "for x in AWI-CM-1-1-MR.tar.gz MPI-ESM1-2-HR.tar.gz NorESM2-LM.tar.gz FGOALS-f3-L.tar.gz EC-Earth3.tar.gz BCC-CSM2-MR.tar.gz;do  curl https://object-arbutus.cloud.computecanada.ca/causalpaca/outputs/$x --output ${data_dir}/outputs/$x; done\n",
            "\n",
            "curl https://object-arbutus.cloud.computecanada.ca/causalpaca/outputs/NorESM2-LM.tar.gz --output ${data_dir}/outputs/NorESM2-LM.tar.gz\n",
            "\n",
            "echo \"Done. Finished downloading the compressed files, now extracting!\"\n",
            "\n",
            "cd ${data_dir}/inputs\n",
            "for x in `ls |grep .gz`;\n",
            "do tar -xzf $x; rm -f $x;\n",
            "done;\n",
            "\n",
            "cd ../../${data_dir}/outputs\n",
            "for x in `ls |grep .gz`;\n",
            "do tar -xzf $x;  rm -f $x;\n",
            "done;\n",
            "\n",
            "\n",
            "echo \"Done. Finished downloading Climateset data! :)\"\n"
          ]
        }
      ]
    },
    {
      "cell_type": "code",
      "source": [
        "!bash download_climateset.sh"
      ],
      "metadata": {
        "colab": {
          "base_uri": "https://localhost:8080/"
        },
        "id": "Easg_aTiTs5J",
        "outputId": "2185efa0-067c-4cdc-ac08-d4ed4d6cc744"
      },
      "execution_count": 8,
      "outputs": [
        {
          "output_type": "stream",
          "name": "stdout",
          "text": [
            "Downloading input4mips data...\n",
            "  % Total    % Received % Xferd  Average Speed   Time    Time     Time  Current\n",
            "                                 Dload  Upload   Total   Spent    Left  Speed\n",
            "100 2144M  100 2144M    0     0  15.0M      0  0:02:22  0:02:22 --:--:-- 21.2M\n",
            "Done.\n",
            "Downloading compressed CMIP6 models data...\n",
            "  % Total    % Received % Xferd  Average Speed   Time    Time     Time  Current\n",
            "                                 Dload  Upload   Total   Spent    Left  Speed\n",
            "100 3463M  100 3463M    0     0  15.9M      0  0:03:37  0:03:37 --:--:-- 21.2M\n",
            "  % Total    % Received % Xferd  Average Speed   Time    Time     Time  Current\n",
            "                                 Dload  Upload   Total   Spent    Left  Speed\n",
            "100 2985M  100 2985M    0     0  20.7M      0  0:02:23  0:02:23 --:--:-- 23.9M\n",
            "  % Total    % Received % Xferd  Average Speed   Time    Time     Time  Current\n",
            "                                 Dload  Upload   Total   Spent    Left  Speed\n",
            "100  783M  100  783M    0     0  16.1M      0  0:00:48  0:00:48 --:--:-- 13.8M\n",
            "  % Total    % Received % Xferd  Average Speed   Time    Time     Time  Current\n",
            "                                 Dload  Upload   Total   Spent    Left  Speed\n",
            "100 2577M  100 2577M    0     0  16.6M      0  0:02:34  0:02:34 --:--:-- 20.4M\n",
            "  % Total    % Received % Xferd  Average Speed   Time    Time     Time  Current\n",
            "                                 Dload  Upload   Total   Spent    Left  Speed\n",
            "100 5585M  100 5585M    0     0  13.9M      0  0:06:40  0:06:40 --:--:-- 20.8M\n",
            "  % Total    % Received % Xferd  Average Speed   Time    Time     Time  Current\n",
            "                                 Dload  Upload   Total   Spent    Left  Speed\n",
            "100 2572M  100 2572M    0     0  12.4M      0  0:03:26  0:03:26 --:--:-- 15.3M\n",
            "  % Total    % Received % Xferd  Average Speed   Time    Time     Time  Current\n",
            "                                 Dload  Upload   Total   Spent    Left  Speed\n",
            "100  783M  100  783M    0     0  18.3M      0  0:00:42  0:00:42 --:--:-- 16.6M\n",
            "Done. Finished downloading the compressed files, now extracting!\n",
            "download_climateset.sh: line 28: cd: ../..//content/ClimateSet/Climateset_DATA/outputs: No such file or directory\n",
            "Done. Finished downloading Climateset data! :)\n"
          ]
        }
      ]
    },
    {
      "cell_type": "code",
      "source": [
        "!apt install python3.10-venv\n",
        "!python -m venv env_new_emulator\n",
        "!source env_new_emulator/bin/activate\n",
        "!pip install -r requirements.txt\n",
        "!cd emulator # swithc into the emulator folder to perform the emulator setup\n",
        "!pip install -e ."
      ],
      "metadata": {
        "colab": {
          "base_uri": "https://localhost:8080/"
        },
        "id": "kmmdwQY7SDO1",
        "outputId": "6e24b505-0588-4a97-a6f1-6b58f4edca92"
      },
      "execution_count": 2,
      "outputs": [
        {
          "output_type": "stream",
          "name": "stdout",
          "text": [
            "Reading package lists... Done\n",
            "Building dependency tree... Done\n",
            "Reading state information... Done\n",
            "python3.10-venv is already the newest version (3.10.12-1~22.04.3).\n",
            "0 upgraded, 0 newly installed, 0 to remove and 45 not upgraded.\n",
            "Requirement already satisfied: xarray in /usr/local/lib/python3.10/dist-packages (from -r requirements.txt (line 1)) (2023.7.0)\n",
            "Requirement already satisfied: torch==2.2.2 in /usr/local/lib/python3.10/dist-packages (from -r requirements.txt (line 2)) (2.2.2)\n",
            "Requirement already satisfied: dask in /usr/local/lib/python3.10/dist-packages (from -r requirements.txt (line 3)) (2023.8.1)\n",
            "Requirement already satisfied: wandb in /usr/local/lib/python3.10/dist-packages (from -r requirements.txt (line 4)) (0.17.4)\n",
            "Requirement already satisfied: hydra-core in /usr/local/lib/python3.10/dist-packages (from -r requirements.txt (line 5)) (1.3.2)\n",
            "Requirement already satisfied: segmentation-models-pytorch in /usr/local/lib/python3.10/dist-packages (from -r requirements.txt (line 6)) (0.3.3)\n",
            "Requirement already satisfied: netCDF4 in /usr/local/lib/python3.10/dist-packages (from -r requirements.txt (line 7)) (1.7.1.post1)\n",
            "Requirement already satisfied: pytorch-lightning==2.2.3 in /usr/local/lib/python3.10/dist-packages (from -r requirements.txt (line 8)) (2.2.3)\n",
            "Requirement already satisfied: gpytorch in /usr/local/lib/python3.10/dist-packages (from -r requirements.txt (line 9)) (1.12)\n",
            "Requirement already satisfied: codecarbon in /usr/local/lib/python3.10/dist-packages (from -r requirements.txt (line 10)) (2.5.0)\n",
            "Requirement already satisfied: torch_tb_profiler in /usr/local/lib/python3.10/dist-packages (from -r requirements.txt (line 11)) (0.4.3)\n",
            "Requirement already satisfied: torchvision in /usr/local/lib/python3.10/dist-packages (from -r requirements.txt (line 12)) (0.17.2)\n",
            "Requirement already satisfied: filelock in /usr/local/lib/python3.10/dist-packages (from torch==2.2.2->-r requirements.txt (line 2)) (3.15.4)\n",
            "Requirement already satisfied: typing-extensions>=4.8.0 in /usr/local/lib/python3.10/dist-packages (from torch==2.2.2->-r requirements.txt (line 2)) (4.12.2)\n",
            "Requirement already satisfied: sympy in /usr/local/lib/python3.10/dist-packages (from torch==2.2.2->-r requirements.txt (line 2)) (1.12.1)\n",
            "Requirement already satisfied: networkx in /usr/local/lib/python3.10/dist-packages (from torch==2.2.2->-r requirements.txt (line 2)) (3.3)\n",
            "Requirement already satisfied: jinja2 in /usr/local/lib/python3.10/dist-packages (from torch==2.2.2->-r requirements.txt (line 2)) (3.1.4)\n",
            "Requirement already satisfied: fsspec in /usr/local/lib/python3.10/dist-packages (from torch==2.2.2->-r requirements.txt (line 2)) (2023.6.0)\n",
            "Requirement already satisfied: nvidia-cuda-nvrtc-cu12==12.1.105 in /usr/local/lib/python3.10/dist-packages (from torch==2.2.2->-r requirements.txt (line 2)) (12.1.105)\n",
            "Requirement already satisfied: nvidia-cuda-runtime-cu12==12.1.105 in /usr/local/lib/python3.10/dist-packages (from torch==2.2.2->-r requirements.txt (line 2)) (12.1.105)\n",
            "Requirement already satisfied: nvidia-cuda-cupti-cu12==12.1.105 in /usr/local/lib/python3.10/dist-packages (from torch==2.2.2->-r requirements.txt (line 2)) (12.1.105)\n",
            "Requirement already satisfied: nvidia-cudnn-cu12==8.9.2.26 in /usr/local/lib/python3.10/dist-packages (from torch==2.2.2->-r requirements.txt (line 2)) (8.9.2.26)\n",
            "Requirement already satisfied: nvidia-cublas-cu12==12.1.3.1 in /usr/local/lib/python3.10/dist-packages (from torch==2.2.2->-r requirements.txt (line 2)) (12.1.3.1)\n",
            "Requirement already satisfied: nvidia-cufft-cu12==11.0.2.54 in /usr/local/lib/python3.10/dist-packages (from torch==2.2.2->-r requirements.txt (line 2)) (11.0.2.54)\n",
            "Requirement already satisfied: nvidia-curand-cu12==10.3.2.106 in /usr/local/lib/python3.10/dist-packages (from torch==2.2.2->-r requirements.txt (line 2)) (10.3.2.106)\n",
            "Requirement already satisfied: nvidia-cusolver-cu12==11.4.5.107 in /usr/local/lib/python3.10/dist-packages (from torch==2.2.2->-r requirements.txt (line 2)) (11.4.5.107)\n",
            "Requirement already satisfied: nvidia-cusparse-cu12==12.1.0.106 in /usr/local/lib/python3.10/dist-packages (from torch==2.2.2->-r requirements.txt (line 2)) (12.1.0.106)\n",
            "Requirement already satisfied: nvidia-nccl-cu12==2.19.3 in /usr/local/lib/python3.10/dist-packages (from torch==2.2.2->-r requirements.txt (line 2)) (2.19.3)\n",
            "Requirement already satisfied: nvidia-nvtx-cu12==12.1.105 in /usr/local/lib/python3.10/dist-packages (from torch==2.2.2->-r requirements.txt (line 2)) (12.1.105)\n",
            "Requirement already satisfied: triton==2.2.0 in /usr/local/lib/python3.10/dist-packages (from torch==2.2.2->-r requirements.txt (line 2)) (2.2.0)\n",
            "Requirement already satisfied: numpy>=1.17.2 in /usr/local/lib/python3.10/dist-packages (from pytorch-lightning==2.2.3->-r requirements.txt (line 8)) (1.25.2)\n",
            "Requirement already satisfied: tqdm>=4.57.0 in /usr/local/lib/python3.10/dist-packages (from pytorch-lightning==2.2.3->-r requirements.txt (line 8)) (4.66.4)\n",
            "Requirement already satisfied: PyYAML>=5.4 in /usr/local/lib/python3.10/dist-packages (from pytorch-lightning==2.2.3->-r requirements.txt (line 8)) (6.0.1)\n",
            "Requirement already satisfied: torchmetrics>=0.7.0 in /usr/local/lib/python3.10/dist-packages (from pytorch-lightning==2.2.3->-r requirements.txt (line 8)) (1.4.0.post0)\n",
            "Requirement already satisfied: packaging>=20.0 in /usr/local/lib/python3.10/dist-packages (from pytorch-lightning==2.2.3->-r requirements.txt (line 8)) (24.1)\n",
            "Requirement already satisfied: lightning-utilities>=0.8.0 in /usr/local/lib/python3.10/dist-packages (from pytorch-lightning==2.2.3->-r requirements.txt (line 8)) (0.11.3.post0)\n",
            "Requirement already satisfied: nvidia-nvjitlink-cu12 in /usr/local/lib/python3.10/dist-packages (from nvidia-cusolver-cu12==11.4.5.107->torch==2.2.2->-r requirements.txt (line 2)) (12.5.82)\n",
            "Requirement already satisfied: pandas>=1.4 in /usr/local/lib/python3.10/dist-packages (from xarray->-r requirements.txt (line 1)) (2.0.3)\n",
            "Requirement already satisfied: click>=8.0 in /usr/local/lib/python3.10/dist-packages (from dask->-r requirements.txt (line 3)) (8.1.7)\n",
            "Requirement already satisfied: cloudpickle>=1.5.0 in /usr/local/lib/python3.10/dist-packages (from dask->-r requirements.txt (line 3)) (2.2.1)\n",
            "Requirement already satisfied: partd>=1.2.0 in /usr/local/lib/python3.10/dist-packages (from dask->-r requirements.txt (line 3)) (1.4.2)\n",
            "Requirement already satisfied: toolz>=0.10.0 in /usr/local/lib/python3.10/dist-packages (from dask->-r requirements.txt (line 3)) (0.12.1)\n",
            "Requirement already satisfied: importlib-metadata>=4.13.0 in /usr/local/lib/python3.10/dist-packages (from dask->-r requirements.txt (line 3)) (8.0.0)\n",
            "Requirement already satisfied: docker-pycreds>=0.4.0 in /usr/local/lib/python3.10/dist-packages (from wandb->-r requirements.txt (line 4)) (0.4.0)\n",
            "Requirement already satisfied: gitpython!=3.1.29,>=1.0.0 in /usr/local/lib/python3.10/dist-packages (from wandb->-r requirements.txt (line 4)) (3.1.43)\n",
            "Requirement already satisfied: platformdirs in /usr/local/lib/python3.10/dist-packages (from wandb->-r requirements.txt (line 4)) (4.2.2)\n",
            "Requirement already satisfied: protobuf!=4.21.0,<6,>=3.19.0 in /usr/local/lib/python3.10/dist-packages (from wandb->-r requirements.txt (line 4)) (3.20.3)\n",
            "Requirement already satisfied: psutil>=5.0.0 in /usr/local/lib/python3.10/dist-packages (from wandb->-r requirements.txt (line 4)) (5.9.5)\n",
            "Requirement already satisfied: requests<3,>=2.0.0 in /usr/local/lib/python3.10/dist-packages (from wandb->-r requirements.txt (line 4)) (2.31.0)\n",
            "Requirement already satisfied: sentry-sdk>=1.0.0 in /usr/local/lib/python3.10/dist-packages (from wandb->-r requirements.txt (line 4)) (2.7.1)\n",
            "Requirement already satisfied: setproctitle in /usr/local/lib/python3.10/dist-packages (from wandb->-r requirements.txt (line 4)) (1.3.3)\n",
            "Requirement already satisfied: setuptools in /usr/local/lib/python3.10/dist-packages (from wandb->-r requirements.txt (line 4)) (67.7.2)\n",
            "Requirement already satisfied: omegaconf<2.4,>=2.2 in /usr/local/lib/python3.10/dist-packages (from hydra-core->-r requirements.txt (line 5)) (2.3.0)\n",
            "Requirement already satisfied: antlr4-python3-runtime==4.9.* in /usr/local/lib/python3.10/dist-packages (from hydra-core->-r requirements.txt (line 5)) (4.9.3)\n",
            "Requirement already satisfied: pretrainedmodels==0.7.4 in /usr/local/lib/python3.10/dist-packages (from segmentation-models-pytorch->-r requirements.txt (line 6)) (0.7.4)\n",
            "Requirement already satisfied: efficientnet-pytorch==0.7.1 in /usr/local/lib/python3.10/dist-packages (from segmentation-models-pytorch->-r requirements.txt (line 6)) (0.7.1)\n",
            "Requirement already satisfied: timm==0.9.2 in /usr/local/lib/python3.10/dist-packages (from segmentation-models-pytorch->-r requirements.txt (line 6)) (0.9.2)\n",
            "Requirement already satisfied: pillow in /usr/local/lib/python3.10/dist-packages (from segmentation-models-pytorch->-r requirements.txt (line 6)) (9.4.0)\n",
            "Requirement already satisfied: munch in /usr/local/lib/python3.10/dist-packages (from pretrainedmodels==0.7.4->segmentation-models-pytorch->-r requirements.txt (line 6)) (4.0.0)\n",
            "Requirement already satisfied: huggingface-hub in /usr/local/lib/python3.10/dist-packages (from timm==0.9.2->segmentation-models-pytorch->-r requirements.txt (line 6)) (0.23.4)\n",
            "Requirement already satisfied: safetensors in /usr/local/lib/python3.10/dist-packages (from timm==0.9.2->segmentation-models-pytorch->-r requirements.txt (line 6)) (0.4.3)\n",
            "Requirement already satisfied: cftime in /usr/local/lib/python3.10/dist-packages (from netCDF4->-r requirements.txt (line 7)) (1.6.4)\n",
            "Requirement already satisfied: certifi in /usr/local/lib/python3.10/dist-packages (from netCDF4->-r requirements.txt (line 7)) (2024.6.2)\n",
            "Requirement already satisfied: mpmath<=1.3,>=0.19 in /usr/local/lib/python3.10/dist-packages (from gpytorch->-r requirements.txt (line 9)) (1.3.0)\n",
            "Requirement already satisfied: scikit-learn in /usr/local/lib/python3.10/dist-packages (from gpytorch->-r requirements.txt (line 9)) (1.2.2)\n",
            "Requirement already satisfied: scipy in /usr/local/lib/python3.10/dist-packages (from gpytorch->-r requirements.txt (line 9)) (1.11.4)\n",
            "Requirement already satisfied: linear-operator>=0.5.2 in /usr/local/lib/python3.10/dist-packages (from gpytorch->-r requirements.txt (line 9)) (0.5.2)\n",
            "Requirement already satisfied: arrow in /usr/local/lib/python3.10/dist-packages (from codecarbon->-r requirements.txt (line 10)) (1.3.0)\n",
            "Requirement already satisfied: prometheus-client in /usr/local/lib/python3.10/dist-packages (from codecarbon->-r requirements.txt (line 10)) (0.20.0)\n",
            "Requirement already satisfied: py-cpuinfo in /usr/local/lib/python3.10/dist-packages (from codecarbon->-r requirements.txt (line 10)) (9.0.0)\n",
            "Requirement already satisfied: pynvml in /usr/local/lib/python3.10/dist-packages (from codecarbon->-r requirements.txt (line 10)) (11.5.0)\n",
            "Requirement already satisfied: rapidfuzz in /usr/local/lib/python3.10/dist-packages (from codecarbon->-r requirements.txt (line 10)) (3.9.4)\n",
            "Requirement already satisfied: tensorboard!=2.1.0,>=1.15 in /usr/local/lib/python3.10/dist-packages (from torch_tb_profiler->-r requirements.txt (line 11)) (2.15.2)\n",
            "Requirement already satisfied: six>=1.4.0 in /usr/local/lib/python3.10/dist-packages (from docker-pycreds>=0.4.0->wandb->-r requirements.txt (line 4)) (1.16.0)\n",
            "Requirement already satisfied: aiohttp!=4.0.0a0,!=4.0.0a1 in /usr/local/lib/python3.10/dist-packages (from fsspec->torch==2.2.2->-r requirements.txt (line 2)) (3.9.5)\n",
            "Requirement already satisfied: gitdb<5,>=4.0.1 in /usr/local/lib/python3.10/dist-packages (from gitpython!=3.1.29,>=1.0.0->wandb->-r requirements.txt (line 4)) (4.0.11)\n",
            "Requirement already satisfied: zipp>=0.5 in /usr/local/lib/python3.10/dist-packages (from importlib-metadata>=4.13.0->dask->-r requirements.txt (line 3)) (3.19.2)\n",
            "Requirement already satisfied: jaxtyping>=0.2.9 in /usr/local/lib/python3.10/dist-packages (from linear-operator>=0.5.2->gpytorch->-r requirements.txt (line 9)) (0.2.31)\n",
            "Requirement already satisfied: typeguard~=2.13.3 in /usr/local/lib/python3.10/dist-packages (from linear-operator>=0.5.2->gpytorch->-r requirements.txt (line 9)) (2.13.3)\n",
            "Requirement already satisfied: python-dateutil>=2.8.2 in /usr/local/lib/python3.10/dist-packages (from pandas>=1.4->xarray->-r requirements.txt (line 1)) (2.8.2)\n",
            "Requirement already satisfied: pytz>=2020.1 in /usr/local/lib/python3.10/dist-packages (from pandas>=1.4->xarray->-r requirements.txt (line 1)) (2023.4)\n",
            "Requirement already satisfied: tzdata>=2022.1 in /usr/local/lib/python3.10/dist-packages (from pandas>=1.4->xarray->-r requirements.txt (line 1)) (2024.1)\n",
            "Requirement already satisfied: locket in /usr/local/lib/python3.10/dist-packages (from partd>=1.2.0->dask->-r requirements.txt (line 3)) (1.0.0)\n",
            "Requirement already satisfied: charset-normalizer<4,>=2 in /usr/local/lib/python3.10/dist-packages (from requests<3,>=2.0.0->wandb->-r requirements.txt (line 4)) (3.3.2)\n",
            "Requirement already satisfied: idna<4,>=2.5 in /usr/local/lib/python3.10/dist-packages (from requests<3,>=2.0.0->wandb->-r requirements.txt (line 4)) (3.7)\n",
            "Requirement already satisfied: urllib3<3,>=1.21.1 in /usr/local/lib/python3.10/dist-packages (from requests<3,>=2.0.0->wandb->-r requirements.txt (line 4)) (2.0.7)\n",
            "Requirement already satisfied: absl-py>=0.4 in /usr/local/lib/python3.10/dist-packages (from tensorboard!=2.1.0,>=1.15->torch_tb_profiler->-r requirements.txt (line 11)) (1.4.0)\n",
            "Requirement already satisfied: grpcio>=1.48.2 in /usr/local/lib/python3.10/dist-packages (from tensorboard!=2.1.0,>=1.15->torch_tb_profiler->-r requirements.txt (line 11)) (1.64.1)\n",
            "Requirement already satisfied: google-auth<3,>=1.6.3 in /usr/local/lib/python3.10/dist-packages (from tensorboard!=2.1.0,>=1.15->torch_tb_profiler->-r requirements.txt (line 11)) (2.27.0)\n",
            "Requirement already satisfied: google-auth-oauthlib<2,>=0.5 in /usr/local/lib/python3.10/dist-packages (from tensorboard!=2.1.0,>=1.15->torch_tb_profiler->-r requirements.txt (line 11)) (1.2.0)\n",
            "Requirement already satisfied: markdown>=2.6.8 in /usr/local/lib/python3.10/dist-packages (from tensorboard!=2.1.0,>=1.15->torch_tb_profiler->-r requirements.txt (line 11)) (3.6)\n",
            "Requirement already satisfied: tensorboard-data-server<0.8.0,>=0.7.0 in /usr/local/lib/python3.10/dist-packages (from tensorboard!=2.1.0,>=1.15->torch_tb_profiler->-r requirements.txt (line 11)) (0.7.2)\n",
            "Requirement already satisfied: werkzeug>=1.0.1 in /usr/local/lib/python3.10/dist-packages (from tensorboard!=2.1.0,>=1.15->torch_tb_profiler->-r requirements.txt (line 11)) (3.0.3)\n",
            "Requirement already satisfied: types-python-dateutil>=2.8.10 in /usr/local/lib/python3.10/dist-packages (from arrow->codecarbon->-r requirements.txt (line 10)) (2.9.0.20240316)\n",
            "Requirement already satisfied: MarkupSafe>=2.0 in /usr/local/lib/python3.10/dist-packages (from jinja2->torch==2.2.2->-r requirements.txt (line 2)) (2.1.5)\n",
            "Requirement already satisfied: joblib>=1.1.1 in /usr/local/lib/python3.10/dist-packages (from scikit-learn->gpytorch->-r requirements.txt (line 9)) (1.4.2)\n",
            "Requirement already satisfied: threadpoolctl>=2.0.0 in /usr/local/lib/python3.10/dist-packages (from scikit-learn->gpytorch->-r requirements.txt (line 9)) (3.5.0)\n",
            "Requirement already satisfied: aiosignal>=1.1.2 in /usr/local/lib/python3.10/dist-packages (from aiohttp!=4.0.0a0,!=4.0.0a1->fsspec->torch==2.2.2->-r requirements.txt (line 2)) (1.3.1)\n",
            "Requirement already satisfied: attrs>=17.3.0 in /usr/local/lib/python3.10/dist-packages (from aiohttp!=4.0.0a0,!=4.0.0a1->fsspec->torch==2.2.2->-r requirements.txt (line 2)) (23.2.0)\n",
            "Requirement already satisfied: frozenlist>=1.1.1 in /usr/local/lib/python3.10/dist-packages (from aiohttp!=4.0.0a0,!=4.0.0a1->fsspec->torch==2.2.2->-r requirements.txt (line 2)) (1.4.1)\n",
            "Requirement already satisfied: multidict<7.0,>=4.5 in /usr/local/lib/python3.10/dist-packages (from aiohttp!=4.0.0a0,!=4.0.0a1->fsspec->torch==2.2.2->-r requirements.txt (line 2)) (6.0.5)\n",
            "Requirement already satisfied: yarl<2.0,>=1.0 in /usr/local/lib/python3.10/dist-packages (from aiohttp!=4.0.0a0,!=4.0.0a1->fsspec->torch==2.2.2->-r requirements.txt (line 2)) (1.9.4)\n",
            "Requirement already satisfied: async-timeout<5.0,>=4.0 in /usr/local/lib/python3.10/dist-packages (from aiohttp!=4.0.0a0,!=4.0.0a1->fsspec->torch==2.2.2->-r requirements.txt (line 2)) (4.0.3)\n",
            "Requirement already satisfied: smmap<6,>=3.0.1 in /usr/local/lib/python3.10/dist-packages (from gitdb<5,>=4.0.1->gitpython!=3.1.29,>=1.0.0->wandb->-r requirements.txt (line 4)) (5.0.1)\n",
            "Requirement already satisfied: cachetools<6.0,>=2.0.0 in /usr/local/lib/python3.10/dist-packages (from google-auth<3,>=1.6.3->tensorboard!=2.1.0,>=1.15->torch_tb_profiler->-r requirements.txt (line 11)) (5.3.3)\n",
            "Requirement already satisfied: pyasn1-modules>=0.2.1 in /usr/local/lib/python3.10/dist-packages (from google-auth<3,>=1.6.3->tensorboard!=2.1.0,>=1.15->torch_tb_profiler->-r requirements.txt (line 11)) (0.4.0)\n",
            "Requirement already satisfied: rsa<5,>=3.1.4 in /usr/local/lib/python3.10/dist-packages (from google-auth<3,>=1.6.3->tensorboard!=2.1.0,>=1.15->torch_tb_profiler->-r requirements.txt (line 11)) (4.9)\n",
            "Requirement already satisfied: requests-oauthlib>=0.7.0 in /usr/local/lib/python3.10/dist-packages (from google-auth-oauthlib<2,>=0.5->tensorboard!=2.1.0,>=1.15->torch_tb_profiler->-r requirements.txt (line 11)) (1.3.1)\n",
            "Requirement already satisfied: pyasn1<0.7.0,>=0.4.6 in /usr/local/lib/python3.10/dist-packages (from pyasn1-modules>=0.2.1->google-auth<3,>=1.6.3->tensorboard!=2.1.0,>=1.15->torch_tb_profiler->-r requirements.txt (line 11)) (0.6.0)\n",
            "Requirement already satisfied: oauthlib>=3.0.0 in /usr/local/lib/python3.10/dist-packages (from requests-oauthlib>=0.7.0->google-auth-oauthlib<2,>=0.5->tensorboard!=2.1.0,>=1.15->torch_tb_profiler->-r requirements.txt (line 11)) (3.2.2)\n",
            "/bin/bash: line 1: cd: emulator: No such file or directory\n",
            "Obtaining file:///content\n",
            "\u001b[31mERROR: file:///content does not appear to be a Python project: neither 'setup.py' nor 'pyproject.toml' found.\u001b[0m\u001b[31m\n",
            "\u001b[0m"
          ]
        }
      ]
    },
    {
      "cell_type": "code",
      "source": [
        "#input the path to the Climateset folder\n",
        "!export PYTHONPATH=/content/ClimateSet # Or export PYTHONPATH=$pwd if you are in the right directory\n",
        "\n",
        "#Check for success with:\n",
        "!echo $PYTHONPATH"
      ],
      "metadata": {
        "colab": {
          "base_uri": "https://localhost:8080/"
        },
        "id": "SmAyY084TTer",
        "outputId": "f01a6f66-9a86-48f8-eafe-8e91841cfc63"
      },
      "execution_count": 3,
      "outputs": [
        {
          "output_type": "stream",
          "name": "stdout",
          "text": [
            "/env/python\n"
          ]
        }
      ]
    },
    {
      "cell_type": "code",
      "source": [
        "import os\n",
        "os.environ['PYTHONPATH'] = '/content/ClimateSet'"
      ],
      "metadata": {
        "id": "_BjwquNNg3xQ"
      },
      "execution_count": 9,
      "outputs": []
    },
    {
      "cell_type": "markdown",
      "source": [
        "Without pretrained model"
      ],
      "metadata": {
        "id": "aHz0h1PQhnrC"
      }
    },
    {
      "cell_type": "code",
      "source": [
        "!python emulator/run.py experiment=single_emulator/unet/NorESM2-LM_unet_tas+pr_run-01.yaml logger=none seed=3423"
      ],
      "metadata": {
        "colab": {
          "base_uri": "https://localhost:8080/"
        },
        "id": "jrxu8w2pgqMf",
        "outputId": "9fe85e62-95bf-457f-c493-3878d922ba50"
      },
      "execution_count": 10,
      "outputs": [
        {
          "output_type": "stream",
          "name": "stdout",
          "text": [
            "cuda available:  True\n",
            "[2024-07-04 16:11:31,321][numexpr.utils][INFO] - NumExpr defaulting to 2 threads.\n",
            "[2024-07-04 16:11:33,527][lightning_fabric.utilities.seed][INFO] - Seed set to 3423\n",
            "[2024-07-04 16:11:33,529][emulator.train][INFO] - In run model\n",
            "[2024-07-04 16:11:33,530][emulator.src.utils.utils][INFO] - Disabling python warnings! <config.ignore_warnings=True>\n",
            "[2024-07-04 16:11:33,531][emulator.src.utils.config_utils][WARNING] -  `save_config_to_wandb`=True but no wandb logger was found.. config will not be saved!\n",
            "[2024-07-04 16:11:33,531][emulator.train][INFO] - Running model\n",
            "\u001b[2m⚙ CONFIG\u001b[0m\n",
            "\u001b[2m├── \u001b[0m\u001b[2mmodel\u001b[0m\n",
            "\u001b[2m│   \u001b[0m\u001b[2m└── \u001b[0m\u001b[2;91;40mloss_function\u001b[0m\u001b[2;97;40m:\u001b[0m\u001b[2;97;40m \u001b[0m\u001b[2;40mclimax_lon_lat_rmse                                                          \u001b[0m\n",
            "\u001b[2m│   \u001b[0m\u001b[2m    \u001b[0m\u001b[2;91;40mmonitor\u001b[0m\u001b[2;97;40m:\u001b[0m\u001b[2;97;40m \u001b[0m\u001b[2;40mval/llrmse_climax                                                                  \u001b[0m\n",
            "\u001b[2m│   \u001b[0m\u001b[2m    \u001b[0m\u001b[2;91;40msuper_emulation\u001b[0m\u001b[2;97;40m:\u001b[0m\u001b[2;97;40m \u001b[0m\u001b[2;40mfalse                                                                      \u001b[0m\n",
            "\u001b[2m│   \u001b[0m\u001b[2m    \u001b[0m\u001b[2;91;40msuper_decoder\u001b[0m\u001b[2;97;40m:\u001b[0m\u001b[2;97;40m \u001b[0m\u001b[2;40mfalse                                                                        \u001b[0m\n",
            "\u001b[2m│   \u001b[0m\u001b[2m    \u001b[0m\u001b[2;91;40moptimizer\u001b[0m\u001b[2;97;40m:\u001b[0m\u001b[2;40m                                                                                  \u001b[0m\n",
            "\u001b[2m│   \u001b[0m\u001b[2m    \u001b[0m\u001b[2;97;40m  \u001b[0m\u001b[2;91;40mname\u001b[0m\u001b[2;97;40m:\u001b[0m\u001b[2;97;40m \u001b[0m\u001b[2;40madam                                                                                \u001b[0m\n",
            "\u001b[2m│   \u001b[0m\u001b[2m    \u001b[0m\u001b[2;97;40m  \u001b[0m\u001b[2;91;40mis_filtered\u001b[0m\u001b[2;97;40m:\u001b[0m\u001b[2;97;40m \u001b[0m\u001b[2;40mfalse                                                                        \u001b[0m\n",
            "\u001b[2m│   \u001b[0m\u001b[2m    \u001b[0m\u001b[2;97;40m  \u001b[0m\u001b[2;91;40mlr\u001b[0m\u001b[2;97;40m:\u001b[0m\u001b[2;97;40m \u001b[0m\u001b[2;40m0.0002                                                                                \u001b[0m\n",
            "\u001b[2m│   \u001b[0m\u001b[2m    \u001b[0m\u001b[2;97;40m  \u001b[0m\u001b[2;91;40mweight_decay\u001b[0m\u001b[2;97;40m:\u001b[0m\u001b[2;97;40m \u001b[0m\u001b[2;40m1.0e-06                                                                     \u001b[0m\n",
            "\u001b[2m│   \u001b[0m\u001b[2m    \u001b[0m\u001b[2;97;40m  \u001b[0m\u001b[2;91;40meps\u001b[0m\u001b[2;97;40m:\u001b[0m\u001b[2;97;40m \u001b[0m\u001b[2;40m1.0e-08                                                                              \u001b[0m\n",
            "\u001b[2m│   \u001b[0m\u001b[2m    \u001b[0m\u001b[2;91;40m_target_\u001b[0m\u001b[2;97;40m:\u001b[0m\u001b[2;97;40m \u001b[0m\u001b[2;40memulator.src.core.models.baselines.UNet                                           \u001b[0m\n",
            "\u001b[2m│   \u001b[0m\u001b[2m    \u001b[0m\u001b[2;91;40min_var_ids\u001b[0m\u001b[2;97;40m:\u001b[0m\u001b[2;40m                                                                                 \u001b[0m\n",
            "\u001b[2m│   \u001b[0m\u001b[2m    \u001b[0m\u001b[2;40m-\u001b[0m\u001b[2;97;40m \u001b[0m\u001b[2;40mBC_sum                                                                                    \u001b[0m\n",
            "\u001b[2m│   \u001b[0m\u001b[2m    \u001b[0m\u001b[2;40m-\u001b[0m\u001b[2;97;40m \u001b[0m\u001b[2;40mCO2_sum                                                                                   \u001b[0m\n",
            "\u001b[2m│   \u001b[0m\u001b[2m    \u001b[0m\u001b[2;40m-\u001b[0m\u001b[2;97;40m \u001b[0m\u001b[2;40mSO2_sum                                                                                   \u001b[0m\n",
            "\u001b[2m│   \u001b[0m\u001b[2m    \u001b[0m\u001b[2;40m-\u001b[0m\u001b[2;97;40m \u001b[0m\u001b[2;40mCH4_sum                                                                                   \u001b[0m\n",
            "\u001b[2m│   \u001b[0m\u001b[2m    \u001b[0m\u001b[2;91;40mout_var_ids\u001b[0m\u001b[2;97;40m:\u001b[0m\u001b[2;40m                                                                                \u001b[0m\n",
            "\u001b[2m│   \u001b[0m\u001b[2m    \u001b[0m\u001b[2;40m-\u001b[0m\u001b[2;97;40m \u001b[0m\u001b[2;40mtas                                                                                       \u001b[0m\n",
            "\u001b[2m│   \u001b[0m\u001b[2m    \u001b[0m\u001b[2;40m-\u001b[0m\u001b[2;97;40m \u001b[0m\u001b[2;40mpr                                                                                        \u001b[0m\n",
            "\u001b[2m│   \u001b[0m\u001b[2m    \u001b[0m\u001b[2;91;40mseq_to_seq\u001b[0m\u001b[2;97;40m:\u001b[0m\u001b[2;97;40m \u001b[0m\u001b[2;40mtrue                                                                            \u001b[0m\n",
            "\u001b[2m│   \u001b[0m\u001b[2m    \u001b[0m\u001b[2;91;40mseq_len\u001b[0m\u001b[2;97;40m:\u001b[0m\u001b[2;97;40m \u001b[0m\u001b[2;40m12                                                                                 \u001b[0m\n",
            "\u001b[2m│   \u001b[0m\u001b[2m    \u001b[0m\u001b[2;91;40mactivation_function\u001b[0m\u001b[2;97;40m:\u001b[0m\u001b[2;97;40m \u001b[0m\u001b[2;40mnull                                                                   \u001b[0m\n",
            "\u001b[2m│   \u001b[0m\u001b[2m    \u001b[0m\u001b[2;91;40mencoder_name\u001b[0m\u001b[2;97;40m:\u001b[0m\u001b[2;97;40m \u001b[0m\u001b[2;40mvgg11                                                                         \u001b[0m\n",
            "\u001b[2m│   \u001b[0m\u001b[2m    \u001b[0m\u001b[2;91;40mchannels_last\u001b[0m\u001b[2;97;40m:\u001b[0m\u001b[2;97;40m \u001b[0m\u001b[2;40mfalse                                                                        \u001b[0m\n",
            "\u001b[2m│   \u001b[0m\u001b[2m    \u001b[0m\u001b[2;91;40mscheduler\u001b[0m\u001b[2;97;40m:\u001b[0m\u001b[2;40m                                                                                  \u001b[0m\n",
            "\u001b[2m│   \u001b[0m\u001b[2m    \u001b[0m\u001b[2;97;40m  \u001b[0m\u001b[2;91;40m_target_\u001b[0m\u001b[2;97;40m:\u001b[0m\u001b[2;97;40m \u001b[0m\u001b[2;40mtorch.optim.lr_scheduler.ExponentialLR                                          \u001b[0m\n",
            "\u001b[2m│   \u001b[0m\u001b[2m    \u001b[0m\u001b[2;97;40m  \u001b[0m\u001b[2;91;40mgamma\u001b[0m\u001b[2;97;40m:\u001b[0m\u001b[2;97;40m \u001b[0m\u001b[2;40m0.98                                                                               \u001b[0m\n",
            "\u001b[2m│   \u001b[0m\u001b[2m    \u001b[0m\u001b[2;91;40mfinetune\u001b[0m\u001b[2;97;40m:\u001b[0m\u001b[2;97;40m \u001b[0m\u001b[2;40mfalse                                                                             \u001b[0m\n",
            "\u001b[2m│   \u001b[0m\u001b[2m    \u001b[0m\u001b[2;91;40mpretrained_run_id\u001b[0m\u001b[2;97;40m:\u001b[0m\u001b[2;97;40m \u001b[0m\u001b[2;40mnull                                                                     \u001b[0m\n",
            "\u001b[2m│   \u001b[0m\u001b[2m    \u001b[0m\u001b[2;91;40mpretrained_ckpt_dir\u001b[0m\u001b[2;97;40m:\u001b[0m\u001b[2;97;40m \u001b[0m\u001b[2;40mnull                                                                   \u001b[0m\n",
            "\u001b[2m│   \u001b[0m\u001b[2m    \u001b[0m\u001b[2;40m                                                                                            \u001b[0m\n",
            "\u001b[2m├── \u001b[0m\u001b[2mdatamodule\u001b[0m\n",
            "\u001b[2m│   \u001b[0m\u001b[2m└── \u001b[0m\u001b[2;91;40mbatch_size\u001b[0m\u001b[2;97;40m:\u001b[0m\u001b[2;97;40m \u001b[0m\u001b[2;40m4                                                                               \u001b[0m\n",
            "\u001b[2m│   \u001b[0m\u001b[2m    \u001b[0m\u001b[2;91;40mshuffle\u001b[0m\u001b[2;97;40m:\u001b[0m\u001b[2;97;40m \u001b[0m\u001b[2;40mfalse                                                                              \u001b[0m\n",
            "\u001b[2m│   \u001b[0m\u001b[2m    \u001b[0m\u001b[2;91;40memissions_tracker\u001b[0m\u001b[2;97;40m:\u001b[0m\u001b[2;97;40m \u001b[0m\u001b[2;40mtrue                                                                     \u001b[0m\n",
            "\u001b[2m│   \u001b[0m\u001b[2m    \u001b[0m\u001b[2;91;40m_target_\u001b[0m\u001b[2;97;40m:\u001b[0m\u001b[2;97;40m \u001b[0m\u001b[2;40memulator.src.datamodules.climate_datamodule.ClimateDataModule                     \u001b[0m\n",
            "\u001b[2m│   \u001b[0m\u001b[2m    \u001b[0m\u001b[2;91;40min_var_ids\u001b[0m\u001b[2;97;40m:\u001b[0m\u001b[2;40m                                                                                 \u001b[0m\n",
            "\u001b[2m│   \u001b[0m\u001b[2m    \u001b[0m\u001b[2;40m-\u001b[0m\u001b[2;97;40m \u001b[0m\u001b[2;40mBC_sum                                                                                    \u001b[0m\n",
            "\u001b[2m│   \u001b[0m\u001b[2m    \u001b[0m\u001b[2;40m-\u001b[0m\u001b[2;97;40m \u001b[0m\u001b[2;40mCO2_sum                                                                                   \u001b[0m\n",
            "\u001b[2m│   \u001b[0m\u001b[2m    \u001b[0m\u001b[2;40m-\u001b[0m\u001b[2;97;40m \u001b[0m\u001b[2;40mSO2_sum                                                                                   \u001b[0m\n",
            "\u001b[2m│   \u001b[0m\u001b[2m    \u001b[0m\u001b[2;40m-\u001b[0m\u001b[2;97;40m \u001b[0m\u001b[2;40mCH4_sum                                                                                   \u001b[0m\n",
            "\u001b[2m│   \u001b[0m\u001b[2m    \u001b[0m\u001b[2;91;40mout_var_ids\u001b[0m\u001b[2;97;40m:\u001b[0m\u001b[2;40m                                                                                \u001b[0m\n",
            "\u001b[2m│   \u001b[0m\u001b[2m    \u001b[0m\u001b[2;40m-\u001b[0m\u001b[2;97;40m \u001b[0m\u001b[2;40mtas                                                                                       \u001b[0m\n",
            "\u001b[2m│   \u001b[0m\u001b[2m    \u001b[0m\u001b[2;40m-\u001b[0m\u001b[2;97;40m \u001b[0m\u001b[2;40mpr                                                                                        \u001b[0m\n",
            "\u001b[2m│   \u001b[0m\u001b[2m    \u001b[0m\u001b[2;91;40mseq_to_seq\u001b[0m\u001b[2;97;40m:\u001b[0m\u001b[2;97;40m \u001b[0m\u001b[2;40mtrue                                                                            \u001b[0m\n",
            "\u001b[2m│   \u001b[0m\u001b[2m    \u001b[0m\u001b[2;91;40mchannels_last\u001b[0m\u001b[2;97;40m:\u001b[0m\u001b[2;97;40m \u001b[0m\u001b[2;40mfalse                                                                        \u001b[0m\n",
            "\u001b[2m│   \u001b[0m\u001b[2m    \u001b[0m\u001b[2;91;40meval_batch_size\u001b[0m\u001b[2;97;40m:\u001b[0m\u001b[2;97;40m \u001b[0m\u001b[2;40m4                                                                          \u001b[0m\n",
            "\u001b[2m│   \u001b[0m\u001b[2m    \u001b[0m\u001b[2;91;40mtrain_historical_years\u001b[0m\u001b[2;97;40m:\u001b[0m\u001b[2;97;40m \u001b[0m\u001b[2;40m1850-2010                                                           \u001b[0m\n",
            "\u001b[2m│   \u001b[0m\u001b[2m    \u001b[0m\u001b[2;91;40mtest_years\u001b[0m\u001b[2;97;40m:\u001b[0m\u001b[2;97;40m \u001b[0m\u001b[2;40m2015-2100                                                                       \u001b[0m\n",
            "\u001b[2m│   \u001b[0m\u001b[2m    \u001b[0m\u001b[2;91;40mtrain_years\u001b[0m\u001b[2;97;40m:\u001b[0m\u001b[2;97;40m \u001b[0m\u001b[2;40m2015-2100                                                                      \u001b[0m\n",
            "\u001b[2m│   \u001b[0m\u001b[2m    \u001b[0m\u001b[2;91;40mval_split\u001b[0m\u001b[2;97;40m:\u001b[0m\u001b[2;97;40m \u001b[0m\u001b[2;40m0.1                                                                              \u001b[0m\n",
            "\u001b[2m│   \u001b[0m\u001b[2m    \u001b[0m\u001b[2;91;40mtrain_scenarios\u001b[0m\u001b[2;97;40m:\u001b[0m\u001b[2;40m                                                                            \u001b[0m\n",
            "\u001b[2m│   \u001b[0m\u001b[2m    \u001b[0m\u001b[2;40m-\u001b[0m\u001b[2;97;40m \u001b[0m\u001b[2;40mssp126                                                                                    \u001b[0m\n",
            "\u001b[2m│   \u001b[0m\u001b[2m    \u001b[0m\u001b[2;40m-\u001b[0m\u001b[2;97;40m \u001b[0m\u001b[2;40mssp370                                                                                    \u001b[0m\n",
            "\u001b[2m│   \u001b[0m\u001b[2m    \u001b[0m\u001b[2;40m-\u001b[0m\u001b[2;97;40m \u001b[0m\u001b[2;40mssp585                                                                                    \u001b[0m\n",
            "\u001b[2m│   \u001b[0m\u001b[2m    \u001b[0m\u001b[2;91;40mtest_scenarios\u001b[0m\u001b[2;97;40m:\u001b[0m\u001b[2;40m                                                                             \u001b[0m\n",
            "\u001b[2m│   \u001b[0m\u001b[2m    \u001b[0m\u001b[2;40m-\u001b[0m\u001b[2;97;40m \u001b[0m\u001b[2;40mssp245                                                                                    \u001b[0m\n",
            "\u001b[2m│   \u001b[0m\u001b[2m    \u001b[0m\u001b[2;91;40mtrain_models\u001b[0m\u001b[2;97;40m:\u001b[0m\u001b[2;40m                                                                               \u001b[0m\n",
            "\u001b[2m│   \u001b[0m\u001b[2m    \u001b[0m\u001b[2;40m-\u001b[0m\u001b[2;97;40m \u001b[0m\u001b[2;40mNorESM2-LM                                                                                \u001b[0m\n",
            "\u001b[2m│   \u001b[0m\u001b[2m    \u001b[0m\u001b[2;91;40mnum_ensembles\u001b[0m\u001b[2;97;40m:\u001b[0m\u001b[2;97;40m \u001b[0m\u001b[2;40m1                                                                            \u001b[0m\n",
            "\u001b[2m│   \u001b[0m\u001b[2m    \u001b[0m\u001b[2;91;40mnum_workers\u001b[0m\u001b[2;97;40m:\u001b[0m\u001b[2;97;40m \u001b[0m\u001b[2;40m0                                                                              \u001b[0m\n",
            "\u001b[2m│   \u001b[0m\u001b[2m    \u001b[0m\u001b[2;91;40mpin_memory\u001b[0m\u001b[2;97;40m:\u001b[0m\u001b[2;97;40m \u001b[0m\u001b[2;40mfalse                                                                           \u001b[0m\n",
            "\u001b[2m│   \u001b[0m\u001b[2m    \u001b[0m\u001b[2;91;40mload_train_into_mem\u001b[0m\u001b[2;97;40m:\u001b[0m\u001b[2;97;40m \u001b[0m\u001b[2;40mtrue                                                                   \u001b[0m\n",
            "\u001b[2m│   \u001b[0m\u001b[2m    \u001b[0m\u001b[2;91;40mload_test_into_mem\u001b[0m\u001b[2;97;40m:\u001b[0m\u001b[2;97;40m \u001b[0m\u001b[2;40mtrue                                                                    \u001b[0m\n",
            "\u001b[2m│   \u001b[0m\u001b[2m    \u001b[0m\u001b[2;91;40mverbose\u001b[0m\u001b[2;97;40m:\u001b[0m\u001b[2;97;40m \u001b[0m\u001b[2;40mtrue                                                                               \u001b[0m\n",
            "\u001b[2m│   \u001b[0m\u001b[2m    \u001b[0m\u001b[2;91;40mseed\u001b[0m\u001b[2;97;40m:\u001b[0m\u001b[2;97;40m \u001b[0m\u001b[2;40m11                                                                                    \u001b[0m\n",
            "\u001b[2m│   \u001b[0m\u001b[2m    \u001b[0m\u001b[2;91;40mseq_len\u001b[0m\u001b[2;97;40m:\u001b[0m\u001b[2;97;40m \u001b[0m\u001b[2;40m12                                                                                 \u001b[0m\n",
            "\u001b[2m│   \u001b[0m\u001b[2m    \u001b[0m\u001b[2;91;40mlon\u001b[0m\u001b[2;97;40m:\u001b[0m\u001b[2;97;40m \u001b[0m\u001b[2;40m96                                                                                     \u001b[0m\n",
            "\u001b[2m│   \u001b[0m\u001b[2m    \u001b[0m\u001b[2;91;40mlat\u001b[0m\u001b[2;97;40m:\u001b[0m\u001b[2;97;40m \u001b[0m\u001b[2;40m144                                                                                    \u001b[0m\n",
            "\u001b[2m│   \u001b[0m\u001b[2m    \u001b[0m\u001b[2;91;40mnum_levels\u001b[0m\u001b[2;97;40m:\u001b[0m\u001b[2;97;40m \u001b[0m\u001b[2;40m1                                                                               \u001b[0m\n",
            "\u001b[2m│   \u001b[0m\u001b[2m    \u001b[0m\u001b[2;40m                                                                                            \u001b[0m\n",
            "\u001b[2m├── \u001b[0m\u001b[2mwork_dir\u001b[0m\n",
            "\u001b[2m│   \u001b[0m\u001b[2m└── \u001b[0m\u001b[2;40m/content/ClimateSet                                                                         \u001b[0m\n",
            "\u001b[2m├── \u001b[0m\u001b[2mckpt_dir\u001b[0m\n",
            "\u001b[2m│   \u001b[0m\u001b[2m└── \u001b[0m\u001b[2;40m/content/ClimateSet/checkpoints/                                                            \u001b[0m\n",
            "\u001b[2m├── \u001b[0m\u001b[2mlog_dir\u001b[0m\n",
            "\u001b[2m│   \u001b[0m\u001b[2m└── \u001b[0m\u001b[2;40m/content/ClimateSet/logs/                                                                   \u001b[0m\n",
            "\u001b[2m├── \u001b[0m\u001b[2mprint_config\u001b[0m\n",
            "\u001b[2m│   \u001b[0m\u001b[2m└── \u001b[0m\u001b[2;40mTrue                                                                                        \u001b[0m\n",
            "\u001b[2m├── \u001b[0m\u001b[2mpyprofile\u001b[0m\n",
            "\u001b[2m│   \u001b[0m\u001b[2m└── \u001b[0m\u001b[2;40mFalse                                                                                       \u001b[0m\n",
            "\u001b[2m├── \u001b[0m\u001b[2mignore_warnings\u001b[0m\n",
            "\u001b[2m│   \u001b[0m\u001b[2m└── \u001b[0m\u001b[2;40mTrue                                                                                        \u001b[0m\n",
            "\u001b[2m├── \u001b[0m\u001b[2mtest_after_training\u001b[0m\n",
            "\u001b[2m│   \u001b[0m\u001b[2m└── \u001b[0m\u001b[2;40mTrue                                                                                        \u001b[0m\n",
            "\u001b[2m├── \u001b[0m\u001b[2msave_config_to_wandb\u001b[0m\n",
            "\u001b[2m│   \u001b[0m\u001b[2m└── \u001b[0m\u001b[2;40mFalse                                                                                       \u001b[0m\n",
            "\u001b[2m├── \u001b[0m\u001b[2mverbose\u001b[0m\n",
            "\u001b[2m│   \u001b[0m\u001b[2m└── \u001b[0m\u001b[2;40mTrue                                                                                        \u001b[0m\n",
            "\u001b[2m├── \u001b[0m\u001b[2mseed\u001b[0m\n",
            "\u001b[2m│   \u001b[0m\u001b[2m└── \u001b[0m\u001b[2;40m3423                                                                                        \u001b[0m\n",
            "\u001b[2m├── \u001b[0m\u001b[2mname\u001b[0m\n",
            "\u001b[2m│   \u001b[0m\u001b[2m└── \u001b[0m\u001b[2;40mNorESM2-LM_unet_tas_run-01                                                                  \u001b[0m\n",
            "\u001b[2m├── \u001b[0m\u001b[2mtrainer\u001b[0m\n",
            "\u001b[2m│   \u001b[0m\u001b[2m└── \u001b[0m\u001b[2;91;40m_target_\u001b[0m\u001b[2;97;40m:\u001b[0m\u001b[2;97;40m \u001b[0m\u001b[2;40mpytorch_lightning.Trainer                                                         \u001b[0m\n",
            "\u001b[2m│   \u001b[0m\u001b[2m    \u001b[0m\u001b[2;91;40maccelerator\u001b[0m\u001b[2;97;40m:\u001b[0m\u001b[2;97;40m \u001b[0m\u001b[2;40mgpu                                                                            \u001b[0m\n",
            "\u001b[2m│   \u001b[0m\u001b[2m    \u001b[0m\u001b[2;91;40mdevices\u001b[0m\u001b[2;97;40m:\u001b[0m\u001b[2;97;40m \u001b[0m\u001b[2;40mauto                                                                               \u001b[0m\n",
            "\u001b[2m│   \u001b[0m\u001b[2m    \u001b[0m\u001b[2;91;40mmin_epochs\u001b[0m\u001b[2;97;40m:\u001b[0m\u001b[2;97;40m \u001b[0m\u001b[2;40m1                                                                               \u001b[0m\n",
            "\u001b[2m│   \u001b[0m\u001b[2m    \u001b[0m\u001b[2;91;40mmax_epochs\u001b[0m\u001b[2;97;40m:\u001b[0m\u001b[2;97;40m \u001b[0m\u001b[2;40m50                                                                              \u001b[0m\n",
            "\u001b[2m│   \u001b[0m\u001b[2m    \u001b[0m\u001b[2;91;40mgradient_clip_val\u001b[0m\u001b[2;97;40m:\u001b[0m\u001b[2;97;40m \u001b[0m\u001b[2;40m1.0                                                                      \u001b[0m\n",
            "\u001b[2m│   \u001b[0m\u001b[2m    \u001b[0m\u001b[2;91;40mnum_sanity_val_steps\u001b[0m\u001b[2;97;40m:\u001b[0m\u001b[2;97;40m \u001b[0m\u001b[2;40m0                                                                     \u001b[0m\n",
            "\u001b[2m│   \u001b[0m\u001b[2m    \u001b[0m\u001b[2;40m                                                                                            \u001b[0m\n",
            "\u001b[2m├── \u001b[0m\u001b[2mcallbacks\u001b[0m\n",
            "\u001b[2m│   \u001b[0m\u001b[2m└── \u001b[0m\u001b[2;40m{}                                                                                          \u001b[0m\n",
            "\u001b[2m│   \u001b[0m\u001b[2m    \u001b[0m\u001b[2;40m                                                                                            \u001b[0m\n",
            "\u001b[2m├── \u001b[0m\u001b[2mlogger\u001b[0m\n",
            "\u001b[2m│   \u001b[0m\u001b[2m└── \u001b[0m\u001b[2;91;40mname\u001b[0m\u001b[2;97;40m:\u001b[0m\u001b[2;97;40m \u001b[0m\u001b[2;40mnone                                                                                  \u001b[0m\n",
            "\u001b[2m│   \u001b[0m\u001b[2m    \u001b[0m\u001b[2;91;40mwandb\u001b[0m\u001b[2;97;40m:\u001b[0m\u001b[2;40m                                                                                      \u001b[0m\n",
            "\u001b[2m│   \u001b[0m\u001b[2m    \u001b[0m\u001b[2;97;40m  \u001b[0m\u001b[2;91;40mtags\u001b[0m\u001b[2;97;40m:\u001b[0m\u001b[2;40m                                                                                     \u001b[0m\n",
            "\u001b[2m│   \u001b[0m\u001b[2m    \u001b[0m\u001b[2;97;40m  \u001b[0m\u001b[2;40m-\u001b[0m\u001b[2;97;40m \u001b[0m\u001b[2;40msingle_emulator                                                                         \u001b[0m\n",
            "\u001b[2m│   \u001b[0m\u001b[2m    \u001b[0m\u001b[2;97;40m  \u001b[0m\u001b[2;40m-\u001b[0m\u001b[2;97;40m \u001b[0m\u001b[2;40munet                                                                                    \u001b[0m\n",
            "\u001b[2m│   \u001b[0m\u001b[2m    \u001b[0m\u001b[2;97;40m  \u001b[0m\u001b[2;40m-\u001b[0m\u001b[2;97;40m \u001b[0m\u001b[2;40mNorESM2-LM                                                                              \u001b[0m\n",
            "\u001b[2m│   \u001b[0m\u001b[2m    \u001b[0m\u001b[2;97;40m  \u001b[0m\u001b[2;40m-\u001b[0m\u001b[2;97;40m \u001b[0m\u001b[2;40mtas+pr                                                                                  \u001b[0m\n",
            "\u001b[2m│   \u001b[0m\u001b[2m    \u001b[0m\u001b[2;97;40m  \u001b[0m\u001b[2;40m-\u001b[0m\u001b[2;97;40m \u001b[0m\u001b[2;40mrun1                                                                                    \u001b[0m\n",
            "\u001b[2m│   \u001b[0m\u001b[2m    \u001b[0m\u001b[2;40m                                                                                            \u001b[0m\n",
            "\u001b[2m├── \u001b[0m\u001b[2mexperiment_mode\u001b[0m\n",
            "\u001b[2m│   \u001b[0m\u001b[2m└── \u001b[0m\u001b[2;40mTrue                                                                                        \u001b[0m\n",
            "\u001b[2m└── \u001b[0m\u001b[2mlocal\u001b[0m\n",
            "\u001b[2m    \u001b[0m\u001b[2m└── \u001b[0m\u001b[2;40m{}                                                                                          \u001b[0m\n",
            "\u001b[2m    \u001b[0m\u001b[2m    \u001b[0m\u001b[2;40m                                                                                            \u001b[0m\n",
            "/content/scratch/Climateset_DATA\n",
            "Test Sets:  ['ssp245_NorESM2-LM']\n",
            "[2024-07-04 16:11:35,008][emulator.src.core.models.basemodel][INFO] - Base Model init!\n",
            "[2024-07-04 16:11:35,008][emulator.src.core.models.basemodel][INFO] - Super Emulation: False\n",
            "[2024-07-04 16:11:35,008][emulator.src.core.models.basemodel][INFO] - Super Decoder: False\n",
            "[2024-07-04 16:11:37,256][emulator.train][INFO] - Got model - NorESM2-LM_unet_tas_run-01\n",
            "[2024-07-04 16:11:37,257][emulator.train][INFO] - NorESM2-LM_unet_tas_run-01\n",
            "[2024-07-04 16:11:37,485][pytorch_lightning.utilities.rank_zero][INFO] - GPU available: True (cuda), used: True\n",
            "[2024-07-04 16:11:37,717][pytorch_lightning.utilities.rank_zero][INFO] - TPU available: False, using: 0 TPU cores\n",
            "[2024-07-04 16:11:37,717][pytorch_lightning.utilities.rank_zero][INFO] - IPU available: False, using: 0 IPUs\n",
            "[2024-07-04 16:11:37,717][pytorch_lightning.utilities.rank_zero][INFO] - HPU available: False, using: 0 HPUs\n",
            "[2024-07-04 16:11:37,718][emulator.train][INFO] - Logging hyperparameters to the PyTorch Lightning loggers.\n",
            "[codecarbon INFO @ 16:11:37] [setup] RAM Tracking...\n",
            "[codecarbon INFO @ 16:11:37] [setup] GPU Tracking...\n",
            "[codecarbon INFO @ 16:11:37] Tracking Nvidia GPU via pynvml\n",
            "[codecarbon INFO @ 16:11:37] [setup] CPU Tracking...\n",
            "[codecarbon WARNING @ 16:11:37] No CPU tracking mode found. Falling back on CPU constant mode.\n",
            "[codecarbon WARNING @ 16:11:38] We saw that you have a Intel(R) Xeon(R) CPU @ 2.00GHz but we don't know it. Please contact us.\n",
            "[codecarbon INFO @ 16:11:38] CPU Model on constant consumption mode: Intel(R) Xeon(R) CPU @ 2.00GHz\n",
            "[codecarbon INFO @ 16:11:38] >>> Tracker's metadata:\n",
            "[codecarbon INFO @ 16:11:38]   Platform system: Linux-6.1.85+-x86_64-with-glibc2.35\n",
            "[codecarbon INFO @ 16:11:38]   Python version: 3.10.12\n",
            "[codecarbon INFO @ 16:11:38]   CodeCarbon version: 2.5.0\n",
            "[codecarbon INFO @ 16:11:38]   Available RAM : 12.675 GB\n",
            "[codecarbon INFO @ 16:11:38]   CPU count: 2\n",
            "[codecarbon INFO @ 16:11:38]   CPU model: Intel(R) Xeon(R) CPU @ 2.00GHz\n",
            "[codecarbon INFO @ 16:11:38]   GPU count: 1\n",
            "[codecarbon INFO @ 16:11:38]   GPU model: 1 x Tesla T4\n",
            "[codecarbon INFO @ 16:11:39] Saving emissions data to file /content/ClimateSet/emissions.csv\n",
            "Creating input4mips...\n",
            "Number of files per var: 0\n",
            "Error executing job with overrides: ['experiment=single_emulator/unet/NorESM2-LM_unet_tas+pr_run-01.yaml', 'logger=none', 'seed=3423']\n",
            "Traceback (most recent call last):\n",
            "  File \"/content/ClimateSet/emulator/run.py\", line 10, in main\n",
            "    return run_model(config)\n",
            "  File \"/content/ClimateSet/emulator/train.py\", line 75, in run_model\n",
            "    trainer.fit(model=emulator_model, datamodule=data_module)\n",
            "  File \"/usr/local/lib/python3.10/dist-packages/pytorch_lightning/trainer/trainer.py\", line 544, in fit\n",
            "    call._call_and_handle_interrupt(\n",
            "  File \"/usr/local/lib/python3.10/dist-packages/pytorch_lightning/trainer/call.py\", line 44, in _call_and_handle_interrupt\n",
            "    return trainer_fn(*args, **kwargs)\n",
            "  File \"/usr/local/lib/python3.10/dist-packages/pytorch_lightning/trainer/trainer.py\", line 580, in _fit_impl\n",
            "    self._run(model, ckpt_path=ckpt_path)\n",
            "  File \"/usr/local/lib/python3.10/dist-packages/pytorch_lightning/trainer/trainer.py\", line 949, in _run\n",
            "    call._call_setup_hook(self)  # allow user to set up LightningModule in accelerator environment\n",
            "  File \"/usr/local/lib/python3.10/dist-packages/pytorch_lightning/trainer/call.py\", line 92, in _call_setup_hook\n",
            "    _call_lightning_datamodule_hook(trainer, \"setup\", stage=fn)\n",
            "  File \"/usr/local/lib/python3.10/dist-packages/pytorch_lightning/trainer/call.py\", line 179, in _call_lightning_datamodule_hook\n",
            "    return fn(*args, **kwargs)\n",
            "  File \"/content/ClimateSet/emulator/src/datamodules/climate_datamodule.py\", line 147, in setup\n",
            "    full_ds = ClimateDataset(\n",
            "  File \"/content/ClimateSet/emulator/src/data/climate_dataset.py\", line 134, in __init__\n",
            "    self.input4mips_ds = Input4MipsDataset(variables=in_variables_im, **ds_kwargs)\n",
            "  File \"/content/ClimateSet/emulator/src/data/climate_dataset.py\", line 693, in __init__\n",
            "    self.raw_data = self.load_into_mem(\n",
            "  File \"/content/ClimateSet/emulator/src/data/climate_dataset.py\", line 155, in load_into_mem\n",
            "    temp_data = xr.open_mfdataset(\n",
            "  File \"/usr/local/lib/python3.10/dist-packages/xarray/backends/api.py\", line 977, in open_mfdataset\n",
            "    raise OSError(\"no files to open\")\n",
            "OSError: no files to open\n",
            "\n",
            "Set the environment variable HYDRA_FULL_ERROR=1 for a complete stack trace.\n"
          ]
        }
      ]
    },
    {
      "cell_type": "markdown",
      "source": [
        "With pretrained model"
      ],
      "metadata": {
        "id": "PXNvS9iBhqyF"
      }
    },
    {
      "cell_type": "code",
      "source": [
        "from huggingface_hub import hf_hub_download\n",
        "import zipfile"
      ],
      "metadata": {
        "id": "jOZEYb7zhuD_"
      },
      "execution_count": 12,
      "outputs": []
    },
    {
      "cell_type": "code",
      "source": [
        "# Define the path of the directory where the data will be downloaded\n",
        "local_directory = '/content/'\n",
        "\n",
        "# Define the relative path of the file in the repository\n",
        "filepath = 'single_emulator/Unet.zip'\n",
        "\n",
        "# Define the repository details\n",
        "repo_id = \"climateset/causalpaca_models\"\n",
        "repo_type = \"model\"\n",
        "\n",
        "# Download the file from the Hugging Face Hub\n",
        "downloaded_file_path = hf_hub_download(repo_id=repo_id, filename=filepath, local_dir=local_directory, repo_type=repo_type, local_dir_use_symlinks=False)\n",
        "\n",
        "# Define the path where the file will be unzipped\n",
        "unzip_directory = os.path.join(local_directory, 'unet_unzipped')\n",
        "\n",
        "# Create the unzip directory if it doesn't exist\n",
        "os.makedirs(unzip_directory, exist_ok=True)\n",
        "\n",
        "# Unzip the file\n",
        "with zipfile.ZipFile(downloaded_file_path, 'r') as zip_ref:\n",
        "    zip_ref.extractall(unzip_directory)\n",
        "\n",
        "print(f\"File has been unzipped to: {unzip_directory}\")"
      ],
      "metadata": {
        "colab": {
          "base_uri": "https://localhost:8080/",
          "height": 243,
          "referenced_widgets": [
            "c025a105660d4151a57e8a2b60d47a27",
            "bc4c570298e645bd9abfbc89da8aacf2",
            "bf45cbccec454f3dab795b8e03c77822",
            "8b2df56aa5b340ce8dce15f15580450c",
            "2457d4cca16347c589ca4fe2004b2823",
            "08aaa86f46de4ffb9621ac65c23446c0",
            "ee7e6f843c484195b038ead99eb3c9c1",
            "180512b5c1504949bdc0cd689be7afc0",
            "4eab807b49f4454fb0e9c53da4b4eea3",
            "eb12f5a00f384175a161ca94b0867d2c",
            "d13e418009804c30b266d4dbe4196e8d"
          ]
        },
        "id": "rT37-lZVhr-S",
        "outputId": "004de081-7275-4558-a96b-6a32c5bd5d94"
      },
      "execution_count": 13,
      "outputs": [
        {
          "output_type": "stream",
          "name": "stderr",
          "text": [
            "/usr/local/lib/python3.10/dist-packages/huggingface_hub/utils/_token.py:89: UserWarning: \n",
            "The secret `HF_TOKEN` does not exist in your Colab secrets.\n",
            "To authenticate with the Hugging Face Hub, create a token in your settings tab (https://huggingface.co/settings/tokens), set it as secret in your Google Colab and restart your session.\n",
            "You will be able to reuse this secret in all of your notebooks.\n",
            "Please note that authentication is recommended but still optional to access public models or datasets.\n",
            "  warnings.warn(\n",
            "/usr/local/lib/python3.10/dist-packages/huggingface_hub/file_download.py:1194: UserWarning: `local_dir_use_symlinks` parameter is deprecated and will be ignored. The process to download files to a local folder has been updated and do not rely on symlinks anymore. You only need to pass a destination folder as`local_dir`.\n",
            "For more details, check out https://huggingface.co/docs/huggingface_hub/main/en/guides/download#download-files-to-local-folder.\n",
            "  warnings.warn(\n"
          ]
        },
        {
          "output_type": "display_data",
          "data": {
            "text/plain": [
              "Unet.zip:   0%|          | 0.00/3.07G [00:00<?, ?B/s]"
            ],
            "application/vnd.jupyter.widget-view+json": {
              "version_major": 2,
              "version_minor": 0,
              "model_id": "c025a105660d4151a57e8a2b60d47a27"
            }
          },
          "metadata": {}
        },
        {
          "output_type": "stream",
          "name": "stdout",
          "text": [
            "File has been unzipped to: /content/unet_unzipped\n"
          ]
        }
      ]
    },
    {
      "cell_type": "code",
      "source": [
        "# Step 6: Prepare the experiment configuration\n",
        "config_path = 'emulator/configs/experiment/single_emulator/unet/NorESM2-MM_unet_tas+pr_run-02.yaml'\n",
        "config_content = \"\"\"\n",
        "model:\n",
        "  finetune: True\n",
        "  pretrained_run_id: \"a4x5sbac\"\n",
        "  pretrained_ckpt_dir: \"/content/unet_unzipped/pretrained_models/single_emulator/Unet/NorESM2-MM_run2_single_emulator_tas+pr_unet/a4x5sbac/checkpoints/epoch=49-step=2950.ckpt\"\n",
        "\"\"\"\n",
        "\n",
        "with open(config_path, 'w') as config_file:\n",
        "    config_file.write(config_content)"
      ],
      "metadata": {
        "id": "trNjXJuVh3Lc"
      },
      "execution_count": 14,
      "outputs": []
    },
    {
      "cell_type": "code",
      "source": [
        "!python emulator/run.py experiment=single_emulator/unet/NorESM2-LM_unet_tas+pr_run-01.yaml logger=none model.pretrained_run_id=\"a4x5sbac\" model.pretrained_ckpt_dir=\"/content/unet_unzipped/pretrained_models/single_emulator/Unet/NorESM2-LM_run2_single_emulator_tas+pr_unet/a4x5sbac/checkpoints/epoch=49-step=2950.ckpt\" model.finetune=True seed=3423"
      ],
      "metadata": {
        "colab": {
          "base_uri": "https://localhost:8080/"
        },
        "id": "dn0ff6uOh5j9",
        "outputId": "4f2d239f-1fec-4cbd-d4db-8da2405305d1"
      },
      "execution_count": 15,
      "outputs": [
        {
          "output_type": "stream",
          "name": "stdout",
          "text": [
            "cuda available:  True\n",
            "mismatched input '=' expecting <EOF>\n",
            "See https://hydra.cc/docs/1.2/advanced/override_grammar/basic for details\n",
            "\n",
            "Set the environment variable HYDRA_FULL_ERROR=1 for a complete stack trace.\n"
          ]
        }
      ]
    }
  ]
}